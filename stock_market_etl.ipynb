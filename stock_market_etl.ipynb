{
  "cells": [
    {
      "cell_type": "code",
      "source": [
        "import pandas as pd\n",
        "from sqlalchemy import create_engine"
      ],
      "outputs": [],
      "execution_count": 1,
      "metadata": {}
    },
    {
      "cell_type": "markdown",
      "source": [
        "### Store CSV into DataFrame"
      ],
      "metadata": {
        "slideshow": {
          "slide_type": "-"
        }
      }
    },
    {
      "cell_type": "code",
      "source": [
        "csv_file1 = \"../Resources/fundamentals.csv\"\n",
        "fundamentals_data_df = pd.read_csv(csv_file1)\n",
        "fundamentals_data_df.head()"
      ],
      "outputs": [
        {
          "output_type": "execute_result",
          "execution_count": 2,
          "data": {
            "text/html": [
              "<div>\n",
              "<style scoped>\n",
              "    .dataframe tbody tr th:only-of-type {\n",
              "        vertical-align: middle;\n",
              "    }\n",
              "\n",
              "    .dataframe tbody tr th {\n",
              "        vertical-align: top;\n",
              "    }\n",
              "\n",
              "    .dataframe thead th {\n",
              "        text-align: right;\n",
              "    }\n",
              "</style>\n",
              "<table border=\"1\" class=\"dataframe\">\n",
              "  <thead>\n",
              "    <tr style=\"text-align: right;\">\n",
              "      <th></th>\n",
              "      <th>id</th>\n",
              "      <th>first_name</th>\n",
              "      <th>last_name</th>\n",
              "      <th>email</th>\n",
              "      <th>gender</th>\n",
              "      <th>car</th>\n",
              "    </tr>\n",
              "  </thead>\n",
              "  <tbody>\n",
              "    <tr>\n",
              "      <th>0</th>\n",
              "      <td>1</td>\n",
              "      <td>Benetta</td>\n",
              "      <td>Cancott</td>\n",
              "      <td>bcancott0@studiopress.com</td>\n",
              "      <td>Female</td>\n",
              "      <td>Scion</td>\n",
              "    </tr>\n",
              "    <tr>\n",
              "      <th>1</th>\n",
              "      <td>2</td>\n",
              "      <td>Lilyan</td>\n",
              "      <td>Cherry</td>\n",
              "      <td>lcherry1@deliciousdays.com</td>\n",
              "      <td>Female</td>\n",
              "      <td>Chrysler</td>\n",
              "    </tr>\n",
              "    <tr>\n",
              "      <th>2</th>\n",
              "      <td>3</td>\n",
              "      <td>Ezekiel</td>\n",
              "      <td>Benasik</td>\n",
              "      <td>ebenasik2@wikia.com</td>\n",
              "      <td>Male</td>\n",
              "      <td>Mercedes-Benz</td>\n",
              "    </tr>\n",
              "    <tr>\n",
              "      <th>3</th>\n",
              "      <td>4</td>\n",
              "      <td>Kennedy</td>\n",
              "      <td>Atlay</td>\n",
              "      <td>katlay3@so-net.ne.jp</td>\n",
              "      <td>Male</td>\n",
              "      <td>Buick</td>\n",
              "    </tr>\n",
              "    <tr>\n",
              "      <th>4</th>\n",
              "      <td>5</td>\n",
              "      <td>Sanford</td>\n",
              "      <td>Salmen</td>\n",
              "      <td>ssalmen4@reuters.com</td>\n",
              "      <td>Male</td>\n",
              "      <td>Lincoln</td>\n",
              "    </tr>\n",
              "  </tbody>\n",
              "</table>\n",
              "</div>"
            ],
            "text/plain": [
              "   id first_name last_name                       email  gender            car\n",
              "0   1    Benetta   Cancott   bcancott0@studiopress.com  Female          Scion\n",
              "1   2     Lilyan    Cherry  lcherry1@deliciousdays.com  Female       Chrysler\n",
              "2   3    Ezekiel   Benasik         ebenasik2@wikia.com    Male  Mercedes-Benz\n",
              "3   4    Kennedy     Atlay        katlay3@so-net.ne.jp    Male          Buick\n",
              "4   5    Sanford    Salmen        ssalmen4@reuters.com    Male        Lincoln"
            ]
          },
          "metadata": {}
        }
      ],
      "execution_count": 2,
      "metadata": {}
    },
    {
      "cell_type": "code",
      "execution_count": null,
      "metadata": {},
      "outputs": [],
      "source": [
        "csv_file2 = \"../Resources/prices.csv\"\n",
        "prices_data_df = pd.read_csv(csv_file2)\n",
        "prices_data_df.head()"
      ]
    },
    {
      "cell_type": "code",
      "execution_count": null,
      "metadata": {},
      "outputs": [],
      "source": [
        "csv_file3 = \"../Resources/securities.csv\"\n",
        "securities_data_df = pd.read_csv(csv_file3)\n",
        "securities_data_df.head()"
      ]
    },
    {
      "cell_type": "markdown",
      "source": [
        "### Create new data with select columns"
      ],
      "metadata": {}
    }
  ],
  "metadata": {
    "kernelspec": {
      "display_name": "pydev",
      "language": "python",
      "name": "pydev"
    },
    "language_info": {
      "codemirror_mode": {
        "name": "ipython",
        "version": 3
      },
      "file_extension": ".py",
      "mimetype": "text/x-python",
      "name": "python",
      "nbconvert_exporter": "python",
      "pygments_lexer": "ipython3",
      "version": "3.6.4"
    },
    "nteract": {
      "version": "0.12.3"
    }
  },
  "nbformat": 4,
  "nbformat_minor": 2
}